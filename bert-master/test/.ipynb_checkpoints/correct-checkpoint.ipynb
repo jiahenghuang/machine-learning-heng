{
 "cells": [
  {
   "cell_type": "code",
   "execution_count": 1,
   "metadata": {},
   "outputs": [
    {
     "name": "stderr",
     "output_type": "stream",
     "text": [
      "[  DEBUG 20191231 11:26:32 corrector:110] Loaded same pinyin file: /usr/local/python3.6.4/lib/python3.6/site-packages/pycorrector/data/same_pinyin.txt, same stroke file: /usr/local/python3.6.4/lib/python3.6/site-packages/pycorrector/data/same_stroke.txt, spend: 0.048 s.\n"
     ]
    },
    {
     "name": "stdout",
     "output_type": "stream",
     "text": [
      "Downloading data from https://deepspeech.bj.bcebos.com/zh_lm/zh_giga.no_cna_cmn.prune01244.klm\n",
      "2953396224/2953395058 [==============================] - 42s 0us/step\n"
     ]
    },
    {
     "name": "stderr",
     "output_type": "stream",
     "text": [
      "[  DEBUG 20191231 11:27:15 detector:79] Loaded language model: /root/.pycorrector/datasets/zh_giga.no_cna_cmn.prune01244.klm, spend: 43.139652252197266 s\n",
      "[  DEBUG 20191231 11:27:17 detector:86] Loaded word freq file: /usr/local/python3.6.4/lib/python3.6/site-packages/pycorrector/data/word_freq.txt, size: 583280, spend: 2.07596492767334 s\n",
      "[  DEBUG 20191231 11:27:17 detector:91] Loaded confusion file: /usr/local/python3.6.4/lib/python3.6/site-packages/pycorrector/data/custom_confusion.txt, size: 1444, spend: 0.0069506168365478516 s\n",
      "[  DEBUG 20191231 11:27:18 detector:104] Loaded custom word file: /usr/local/python3.6.4/lib/python3.6/site-packages/pycorrector/data/custom_word_freq.txt, size: 59783, spend: 0.21210336685180664 s\n"
     ]
    },
    {
     "name": "stdout",
     "output_type": "stream",
     "text": [
      "少先队员应该为老人让座 [['因该', '应该', 4, 6], ['坐', '座', 10, 11]]\n"
     ]
    }
   ],
   "source": [
    "import pycorrector\n",
    "\n",
    "corrected_sent, detail = pycorrector.correct('少先队员因该为老人让坐')\n",
    "print(corrected_sent, detail)"
   ]
  },
  {
   "cell_type": "code",
   "execution_count": 2,
   "metadata": {},
   "outputs": [
    {
     "data": {
      "text/plain": [
       "('住校资料', [])"
      ]
     },
     "execution_count": 2,
     "metadata": {},
     "output_type": "execute_result"
    }
   ],
   "source": [
    "pycorrector.correct('住校资料')"
   ]
  },
  {
   "cell_type": "code",
   "execution_count": 3,
   "metadata": {},
   "outputs": [
    {
     "data": {
      "text/plain": [
       "('zhuxiao帐号', [['账', '帐', 7, 8]])"
      ]
     },
     "execution_count": 3,
     "metadata": {},
     "output_type": "execute_result"
    }
   ],
   "source": [
    "pycorrector.correct('zhuxiao账号')"
   ]
  },
  {
   "cell_type": "code",
   "execution_count": null,
   "metadata": {},
   "outputs": [],
   "source": []
  }
 ],
 "metadata": {
  "kernelspec": {
   "display_name": "Python 3",
   "language": "python",
   "name": "python3"
  },
  "language_info": {
   "codemirror_mode": {
    "name": "ipython",
    "version": 3
   },
   "file_extension": ".py",
   "mimetype": "text/x-python",
   "name": "python",
   "nbconvert_exporter": "python",
   "pygments_lexer": "ipython3",
   "version": "3.6.4"
  }
 },
 "nbformat": 4,
 "nbformat_minor": 2
}
